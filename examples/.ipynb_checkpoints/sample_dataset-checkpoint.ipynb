{
 "cells": [
  {
   "cell_type": "code",
   "execution_count": 39,
   "metadata": {},
   "outputs": [],
   "source": [
    "from scipy.constants import micro, milli\n",
    "\n",
    "# define the initial conditions and kinetics data\n",
    "initial_conc = {\n",
    "    'Acetyl phosphate': 0.8,\n",
    "    'ADP': 1\n",
    "}\n",
    "\n",
    "kinetics_data = {\n",
    "  \"acetate kinase\": {\n",
    "    \"ATP + Acetate = ADP + Acetyl phosphate\": {\n",
    "        'condition_1': {\n",
    "            \"Parameters\": {\n",
    "              \"B\": {\n",
    "                \"species\": \"Acetyl phosphate\",\n",
    "                \"value\": \"0.8\",\n",
    "                \"comment\": \"mM\"\n",
    "              },\n",
    "              \"A\": {\n",
    "                \"species\": \"ADP\",\n",
    "                \"value\": \"1.0\",\n",
    "                \"comment\": \"mM\"\n",
    "              }\n",
    "            },\n",
    "            \"SubstitutedRateLaw\": \"(68.0/milli*A*B)/(50.0*micro*0.34*micro+360.0*micro*B+0.34*micro*A+A*B)\",\n",
    "            \"PubMedID\": \"4362687.0\",\n",
    "            \"Publication\": \"Janson CA, Cleland WW: The inhibition of acetate, pyruvate, and 3-phosphogylcerate kinases by chromium adenosine triphosphate, J Biol Chem 1974 (249) , 2567-71\",\n",
    "            \"pH\": \"7.0\",\n",
    "            \"Temperature\": \"25.0\",\n",
    "            \"Organism\": \"Escherichia coli\",\n",
    "            \"SabioReactionID\": 71\n",
    "        }\n",
    "    },\n",
    "  }\n",
    "}\n",
    "\n",
    "\n",
    "# define inital conditions\n",
    "total_minutes = 200\n",
    "timestep = 50\n",
    "temp_c = 25\n",
    "ph = 7"
   ]
  },
  {
   "cell_type": "code",
   "execution_count": 47,
   "metadata": {
    "scrolled": true
   },
   "outputs": [
    {
     "ename": "SyntaxError",
     "evalue": "invalid syntax (<ipython-input-47-632cb1c803f1>, line 9)",
     "output_type": "error",
     "traceback": [
      "\u001b[1;36m  File \u001b[1;32m\"<ipython-input-47-632cb1c803f1>\"\u001b[1;36m, line \u001b[1;32m9\u001b[0m\n\u001b[1;33m    display(dfba.df))\u001b[0m\n\u001b[1;37m                    ^\u001b[0m\n\u001b[1;31mSyntaxError\u001b[0m\u001b[1;31m:\u001b[0m invalid syntax\n"
     ]
    }
   ],
   "source": [
    "import cobra\n",
    "%run ../dfbapy/dfba.py\n",
    "\n",
    "\n",
    "\n",
    "# initiate the dFBA object\n",
    "dfba = dFBA('e_coli_core.xml',  kinetics_data, verbose = False, printing = True)\n",
    "solutions = dfba.simulate(initial_conc, total_minutes, timestep, temp_c, ph)\n",
    "display(dfba.df))\n",
    "for solution in solutions:\n",
    "    print(f'\\n\\nSolution {solutions.index(solution)}')\n",
    "    print(solution.fluxes)"
   ]
  }
 ],
 "metadata": {
  "kernelspec": {
   "display_name": "Python 3",
   "language": "python",
   "name": "python3"
  },
  "language_info": {
   "codemirror_mode": {
    "name": "ipython",
    "version": 3
   },
   "file_extension": ".py",
   "mimetype": "text/x-python",
   "name": "python",
   "nbconvert_exporter": "python",
   "pygments_lexer": "ipython3",
   "version": "3.7.4"
  }
 },
 "nbformat": 4,
 "nbformat_minor": 2
}
