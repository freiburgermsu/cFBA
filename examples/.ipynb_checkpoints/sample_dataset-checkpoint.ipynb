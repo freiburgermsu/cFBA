{
 "cells": [
  {
   "cell_type": "markdown",
   "metadata": {},
   "source": [
    "# First sample conditions "
   ]
  },
  {
   "cell_type": "code",
   "execution_count": 152,
   "metadata": {},
   "outputs": [],
   "source": [
    "from scipy.constants import micro, milli\n",
    "from pprint import pprint\n",
    "\n",
    "# define the initial conditions and kinetics data\n",
    "initial_conc = {\n",
    "    'Acetyl phosphate': 0.8*micro,\n",
    "    'ADP C10H12N5O10P2': 0.1*milli\n",
    "}\n",
    "\n",
    "kinetics_data = {\n",
    "    'Acetate kinase': {\n",
    "        'source_1': {\n",
    "            'Organism': 'Escherichia coli',\n",
    "            'Parameters': {\n",
    "                'A': {\n",
    "                    'unit': 'mM',\n",
    "                    'chemical': 'ADP C10H12N5O10P2',\n",
    "                    'value': '1.0'},\n",
    "                'B': {\n",
    "                    'unit': 'mM',\n",
    "                    'chemical': 'Acetyl phosphate',\n",
    "                    'value': '0.8'}\n",
    "            },\n",
    "            'PubMedID': '4362687.0',\n",
    "            'Publication': 'Janson CA, Cleland WW: The inhibition of acetate, pyruvate, and 3-phosphogylcerate kinases by chromium adenosine triphosphate, J Biol Chem 1974 (249) , 2567-71',\n",
    "            'SubstitutedRateLaw': '(68.0/milli*A*B)/(50.0*micro*0.34*micro+360.0*micro*B+0.34*micro*A+A*B)',\n",
    "            'Temperature': '25.0',\n",
    "            'pH': '7.0',\n",
    "            'SabioReactionID': 71,\n",
    "        }\n",
    "    }\n",
    "}\n",
    "\n",
    "# pprint(kinetics_data)\n",
    "\n",
    "# define inital conditions\n",
    "total_minutes = 200\n",
    "timestep = 50\n",
    "temp_c = 25\n",
    "ph = 7"
   ]
  },
  {
   "cell_type": "code",
   "execution_count": 156,
   "metadata": {
    "scrolled": true
   },
   "outputs": [
    {
     "name": "stdout",
     "output_type": "stream",
     "text": [
      "{'3-Phospho-D-glycerate', 'Phosphate', 'Nicotinamide adenine dinucleotide phosphate', 'Fumarate', '6-Phospho-D-gluconate', 'D-Erythrose 4-phosphate', 'Dihydroxyacetone phosphate', 'Nicotinamide adenine dinucleotide - reduced', 'Phosphoenolpyruvate', 'Succinate', 'Glyoxylate', 'L-Glutamine', 'Acetate', 'Sedoheptulose 7-phosphate', 'Acetyl phosphate', 'D-Fructose 6-phosphate', 'Oxaloacetate', 'Nicotinamide adenine dinucleotide phosphate - reduced', 'Ubiquinol-8', 'CO2 CO2', 'L-Malate', 'L-Glutamate', '3-Phospho-D-glyceroyl phosphate', 'Ubiquinone-8', '2-Oxoglutarate', 'Ethanol', 'H2O H2O', 'D-Ribulose 5-phosphate', 'Isocitrate', 'O2 O2', 'Alpha-D-Ribose 5-phosphate', 'Formate', 'D-Fructose 1,6-bisphosphate', 'Acetyl-CoA', 'Citrate', 'H+', 'Cis-Aconitate', 'D-Glucose 6-phosphate', '6-phospho-D-glucono-1,5-lactone', 'Ammonium', 'D-Fructose', 'D-Lactate', 'D-Glucose', 'Nicotinamide adenine dinucleotide', 'D-Glycerate 2-phosphate', 'Coenzyme A', 'Succinyl-CoA', 'Pyruvate', 'ADP C10H12N5O10P2', 'Glyceraldehyde 3-phosphate', 'ATP C10H12N5O13P3', 'AMP C10H12N5O7P', 'Acetaldehyde', 'D-Xylulose 5-phosphate'}\n",
      "timestep 1\n",
      "\n",
      "objective value for timestep 1:  0.8739215069684301\n",
      "71\n"
     ]
    },
    {
     "ename": "TypeError",
     "evalue": "argument of type 'int' is not iterable",
     "output_type": "error",
     "traceback": [
      "\u001b[1;31m---------------------------------------------------------------------------\u001b[0m",
      "\u001b[1;31mTypeError\u001b[0m                                 Traceback (most recent call last)",
      "\u001b[1;32m<ipython-input-156-149a77a42c56>\u001b[0m in \u001b[0;36m<module>\u001b[1;34m\u001b[0m\n\u001b[0;32m      7\u001b[0m \u001b[1;31m# initiate the dFBA object\u001b[0m\u001b[1;33m\u001b[0m\u001b[1;33m\u001b[0m\u001b[1;33m\u001b[0m\u001b[0m\n\u001b[0;32m      8\u001b[0m \u001b[0mdfba\u001b[0m \u001b[1;33m=\u001b[0m \u001b[0mdFBA\u001b[0m\u001b[1;33m(\u001b[0m\u001b[1;34m'e_coli_core.xml'\u001b[0m\u001b[1;33m,\u001b[0m  \u001b[0mkinetics_data\u001b[0m\u001b[1;33m,\u001b[0m \u001b[0mverbose\u001b[0m \u001b[1;33m=\u001b[0m \u001b[1;32mFalse\u001b[0m\u001b[1;33m,\u001b[0m \u001b[0mprinting\u001b[0m \u001b[1;33m=\u001b[0m \u001b[1;32mTrue\u001b[0m\u001b[1;33m)\u001b[0m\u001b[1;33m\u001b[0m\u001b[1;33m\u001b[0m\u001b[0m\n\u001b[1;32m----> 9\u001b[1;33m \u001b[0msolutions\u001b[0m \u001b[1;33m=\u001b[0m \u001b[0mdfba\u001b[0m\u001b[1;33m.\u001b[0m\u001b[0msimulate\u001b[0m\u001b[1;33m(\u001b[0m\u001b[0minitial_conc\u001b[0m\u001b[1;33m,\u001b[0m \u001b[0mtotal_minutes\u001b[0m\u001b[1;33m,\u001b[0m \u001b[0mtimestep\u001b[0m\u001b[1;33m,\u001b[0m \u001b[0mtemp_c\u001b[0m\u001b[1;33m,\u001b[0m \u001b[0mph\u001b[0m\u001b[1;33m)\u001b[0m\u001b[1;33m\u001b[0m\u001b[1;33m\u001b[0m\u001b[0m\n\u001b[0m\u001b[0;32m     10\u001b[0m \u001b[0mdisplay\u001b[0m\u001b[1;33m(\u001b[0m\u001b[0mdfba\u001b[0m\u001b[1;33m.\u001b[0m\u001b[0mconcentrations\u001b[0m\u001b[1;33m)\u001b[0m\u001b[1;33m\u001b[0m\u001b[1;33m\u001b[0m\u001b[0m\n\u001b[0;32m     11\u001b[0m \u001b[0mdisplay\u001b[0m\u001b[1;33m(\u001b[0m\u001b[0mdfba\u001b[0m\u001b[1;33m.\u001b[0m\u001b[0mfluxes\u001b[0m\u001b[1;33m)\u001b[0m\u001b[1;33m\u001b[0m\u001b[1;33m\u001b[0m\u001b[0m\n",
      "\u001b[1;32m~\\Dropbox\\My PC (DESKTOP-M302P50)\\Documents\\UVic Civil Engineering\\dFBA\\dFBApy\\dfbapy\\dfba.py\u001b[0m in \u001b[0;36msimulate\u001b[1;34m(self, initial_concentrations, total_time, timestep, temperature, p_h, visualize)\u001b[0m\n\u001b[0;32m    233\u001b[0m \u001b[1;33m\u001b[0m\u001b[0m\n\u001b[0;32m    234\u001b[0m             \u001b[1;31m# calculate custom fluxes, constrain the model, and update concentrations\u001b[0m\u001b[1;33m\u001b[0m\u001b[1;33m\u001b[0m\u001b[1;33m\u001b[0m\u001b[0m\n\u001b[1;32m--> 235\u001b[1;33m             \u001b[0mself\u001b[0m\u001b[1;33m.\u001b[0m\u001b[0m_calculate_kinetics\u001b[0m\u001b[1;33m(\u001b[0m\u001b[1;33m)\u001b[0m\u001b[1;33m\u001b[0m\u001b[1;33m\u001b[0m\u001b[0m\n\u001b[0m\u001b[0;32m    236\u001b[0m             \u001b[0mself\u001b[0m\u001b[1;33m.\u001b[0m\u001b[0m_update_concentrations\u001b[0m\u001b[1;33m(\u001b[0m\u001b[1;33m)\u001b[0m\u001b[1;33m\u001b[0m\u001b[1;33m\u001b[0m\u001b[0m\n\u001b[0;32m    237\u001b[0m             \u001b[1;32mfor\u001b[0m \u001b[0mreaction\u001b[0m \u001b[1;32min\u001b[0m \u001b[0mself\u001b[0m\u001b[1;33m.\u001b[0m\u001b[0mdefined_reactions\u001b[0m\u001b[1;33m:\u001b[0m\u001b[1;33m\u001b[0m\u001b[1;33m\u001b[0m\u001b[0m\n",
      "\u001b[1;32m~\\Dropbox\\My PC (DESKTOP-M302P50)\\Documents\\UVic Civil Engineering\\dFBA\\dFBApy\\dfbapy\\dfba.py\u001b[0m in \u001b[0;36m_calculate_kinetics\u001b[1;34m(self)\u001b[0m\n\u001b[0;32m    114\u001b[0m                 \u001b[0msource_instance\u001b[0m \u001b[1;33m=\u001b[0m \u001b[0mself\u001b[0m\u001b[1;33m.\u001b[0m\u001b[0mreaction_kinetics\u001b[0m\u001b[1;33m[\u001b[0m\u001b[0menzyme\u001b[0m\u001b[1;33m]\u001b[0m\u001b[1;33m[\u001b[0m\u001b[0msource\u001b[0m\u001b[1;33m]\u001b[0m\u001b[1;33m\u001b[0m\u001b[1;33m\u001b[0m\u001b[0m\n\u001b[0;32m    115\u001b[0m                 \u001b[0mprint\u001b[0m\u001b[1;33m(\u001b[0m\u001b[0msource_instance\u001b[0m\u001b[1;33m)\u001b[0m\u001b[1;33m\u001b[0m\u001b[1;33m\u001b[0m\u001b[0m\n\u001b[1;32m--> 116\u001b[1;33m                 \u001b[1;32mif\u001b[0m \u001b[1;34m\"SubstitutedRateLaw\"\u001b[0m \u001b[1;32min\u001b[0m \u001b[0msource_instance\u001b[0m\u001b[1;33m:\u001b[0m     \u001b[1;31m# Statistics of the aggregated data with each condition should be provided in a separate file for provenance of the scraped content.\u001b[0m\u001b[1;33m\u001b[0m\u001b[1;33m\u001b[0m\u001b[0m\n\u001b[0m\u001b[0;32m    117\u001b[0m                     \u001b[0mremainder\u001b[0m \u001b[1;33m=\u001b[0m \u001b[0mre\u001b[0m\u001b[1;33m.\u001b[0m\u001b[0msub\u001b[0m\u001b[1;33m(\u001b[0m\u001b[1;34m'([0-9ABC/()+.*millimicro])'\u001b[0m\u001b[1;33m,\u001b[0m \u001b[1;34m''\u001b[0m\u001b[1;33m,\u001b[0m \u001b[0msource_instance\u001b[0m\u001b[1;33m[\u001b[0m\u001b[1;34m\"SubstitutedRateLaw\"\u001b[0m\u001b[1;33m]\u001b[0m\u001b[1;33m)\u001b[0m\u001b[1;33m\u001b[0m\u001b[1;33m\u001b[0m\u001b[0m\n\u001b[0;32m    118\u001b[0m                     \u001b[1;32mif\u001b[0m \u001b[0mremainder\u001b[0m \u001b[1;33m==\u001b[0m \u001b[1;34m''\u001b[0m\u001b[1;33m:\u001b[0m\u001b[1;33m\u001b[0m\u001b[1;33m\u001b[0m\u001b[0m\n",
      "\u001b[1;31mTypeError\u001b[0m: argument of type 'int' is not iterable"
     ]
    }
   ],
   "source": [
    "import cobra\n",
    "import pandas\n",
    "%run ../dfbapy/dfba.py\n",
    "\n",
    "pandas.set_option('max_rows', None)\n",
    "\n",
    "# initiate the dFBA object\n",
    "dfba = dFBA('e_coli_core.xml',  kinetics_data, verbose = False, printing = True)\n",
    "solutions = dfba.simulate(initial_conc, total_minutes, timestep, temp_c, ph)\n",
    "display(dfba.concentrations)\n",
    "display(dfba.fluxes)\n",
    "for solution in solutions:\n",
    "    print(f'\\n\\nSolution {solutions.index(solution)}')\n",
    "    print(solution.fluxes)\n",
    "\n"
   ]
  },
  {
   "cell_type": "markdown",
   "metadata": {},
   "source": [
    "# Second sample conditions "
   ]
  },
  {
   "cell_type": "code",
   "execution_count": null,
   "metadata": {},
   "outputs": [],
   "source": []
  },
  {
   "cell_type": "code",
   "execution_count": null,
   "metadata": {},
   "outputs": [],
   "source": []
  },
  {
   "cell_type": "code",
   "execution_count": null,
   "metadata": {},
   "outputs": [],
   "source": []
  },
  {
   "cell_type": "code",
   "execution_count": 74,
   "metadata": {},
   "outputs": [
    {
     "name": "stdout",
     "output_type": "stream",
     "text": [
      "['ACALD', 'ACALDt', 'ACKr', 'ACONTa', 'ACONTb', 'ACt2r', 'ADK1', 'AKGDH', 'AKGt2r', 'ALCD2x', 'ATPM', 'ATPS4r', 'BIOMASS_Ecoli_core_w_GAM', 'CO2t', 'CS', 'CYTBD', 'D_LACt2', 'ENO', 'ETOHt2r', 'EX_ac_e', 'EX_acald_e', 'EX_akg_e', 'EX_co2_e', 'EX_etoh_e', 'EX_for_e', 'EX_fru_e', 'EX_fum_e', 'EX_glc__D_e', 'EX_gln__L_e', 'EX_glu__L_e', 'EX_h2o_e', 'EX_h_e', 'EX_lac__D_e', 'EX_mal__L_e', 'EX_nh4_e', 'EX_o2_e', 'EX_pi_e', 'EX_pyr_e', 'EX_succ_e', 'FBA', 'FBP', 'FORt', 'FORt2', 'FRD7', 'FRUpts2', 'FUM', 'FUMt2_2', 'G6PDH2r', 'GAPD', 'GLCpts', 'GLNS', 'GLNabc', 'GLUDy', 'GLUN', 'GLUSy', 'GLUt2r', 'GND', 'H2Ot', 'ICDHyr', 'ICL', 'LDH_D', 'MALS', 'MALt2_2', 'MDH', 'ME1', 'ME2', 'NADH16', 'NADTRHD', 'NH4t', 'O2t', 'PDH', 'PFK', 'PFL', 'PGI', 'PGK', 'PGL', 'PGM', 'PIt2r', 'PPC', 'PPCK', 'PPS', 'PTAr', 'PYK', 'PYRt2', 'RPE', 'RPI', 'SUCCt2_2', 'SUCCt3', 'SUCDi', 'SUCOAS', 'TALA', 'THD2', 'TKT1', 'TKT2', 'TPI', '__add__', '__class__', '__contains__', '__copy__', '__delattr__', '__delitem__', '__delslice__', '__dict__', '__dir__', '__doc__', '__eq__', '__format__', '__ge__', '__getattr__', '__getattribute__', '__getitem__', '__getslice__', '__getstate__', '__gt__', '__hash__', '__iadd__', '__imul__', '__init__', '__init_subclass__', '__isub__', '__iter__', '__le__', '__len__', '__lt__', '__module__', '__mul__', '__ne__', '__new__', '__reduce__', '__reduce_ex__', '__repr__', '__reversed__', '__rmul__', '__setattr__', '__setitem__', '__setslice__', '__setstate__', '__sizeof__', '__str__', '__sub__', '__subclasshook__', '__weakref__', '_check', '_dict', '_extend_nocheck', '_generate_index', '_replace_on_id', 'add', 'append', 'clear', 'copy', 'count', 'extend', 'get_by_any', 'get_by_id', 'has_id', 'index', 'insert', 'list_attr', 'pop', 'query', 'remove', 'reverse', 'sort', 'union']\n",
      "\n",
      "\n",
      "\n",
      "\n",
      "['ACALD', 'ACALDt', 'ACKr', 'ACONTa', 'ACONTb', 'ACt2r', 'ADK1', 'AKGDH', 'AKGt2r', 'ALCD2x', 'ATPM', 'ATPS4r', 'BIOMASS_Ecoli_core_w_GAM', 'CO2t', 'CS', 'CYTBD', 'D_LACt2', 'ENO', 'ETOHt2r', 'EX_ac_e', 'EX_acald_e', 'EX_akg_e', 'EX_co2_e', 'EX_etoh_e', 'EX_for_e', 'EX_fru_e', 'EX_fum_e', 'EX_glc__D_e', 'EX_gln__L_e', 'EX_glu__L_e', 'EX_h2o_e', 'EX_h_e', 'EX_lac__D_e', 'EX_mal__L_e', 'EX_nh4_e', 'EX_o2_e', 'EX_pi_e', 'EX_pyr_e', 'EX_succ_e', 'FBA', 'FBP', 'FORt', 'FORt2', 'FRD7', 'FRUpts2', 'FUM', 'FUMt2_2', 'G6PDH2r', 'GAPD', 'GLCpts', 'GLNS', 'GLNabc', 'GLUDy', 'GLUN', 'GLUSy', 'GLUt2r', 'GND', 'H2Ot', 'ICDHyr', 'ICL', 'LDH_D', 'MALS', 'MALt2_2', 'MDH', 'ME1', 'ME2', 'NADH16', 'NADTRHD', 'NH4t', 'O2t', 'PDH', 'PFK', 'PFL', 'PGI', 'PGK', 'PGL', 'PGM', 'PIt2r', 'PPC', 'PPCK', 'PPS', 'PTAr', 'PYK', 'PYRt2', 'RPE', 'RPI', 'SUCCt2_2', 'SUCCt3', 'SUCDi', 'SUCOAS', 'T', 'TALA', 'THD2', 'TKT1', 'TKT2', 'TPI', '_AXIS_LEN', '_AXIS_NAMES', '_AXIS_NUMBERS', '_AXIS_ORDERS', '_AXIS_REVERSED', '_AXIS_TO_AXIS_NUMBER', '_HANDLED_TYPES', '__abs__', '__add__', '__and__', '__annotations__', '__array__', '__array_priority__', '__array_ufunc__', '__array_wrap__', '__bool__', '__class__', '__contains__', '__copy__', '__deepcopy__', '__delattr__', '__delitem__', '__dict__', '__dir__', '__divmod__', '__doc__', '__eq__', '__finalize__', '__float__', '__floordiv__', '__format__', '__ge__', '__getattr__', '__getattribute__', '__getitem__', '__getstate__', '__gt__', '__hash__', '__iadd__', '__iand__', '__ifloordiv__', '__imod__', '__imul__', '__init__', '__init_subclass__', '__int__', '__invert__', '__ior__', '__ipow__', '__isub__', '__iter__', '__itruediv__', '__ixor__', '__le__', '__len__', '__long__', '__lt__', '__matmul__', '__mod__', '__module__', '__mul__', '__ne__', '__neg__', '__new__', '__nonzero__', '__or__', '__pos__', '__pow__', '__radd__', '__rand__', '__rdivmod__', '__reduce__', '__reduce_ex__', '__repr__', '__rfloordiv__', '__rmatmul__', '__rmod__', '__rmul__', '__ror__', '__round__', '__rpow__', '__rsub__', '__rtruediv__', '__rxor__', '__setattr__', '__setitem__', '__setstate__', '__sizeof__', '__str__', '__sub__', '__subclasshook__', '__truediv__', '__weakref__', '__xor__', '_accessors', '_accum_func', '_add_numeric_operations', '_agg_by_level', '_agg_examples_doc', '_agg_see_also_doc', '_align_frame', '_align_series', '_arith_method', '_attrs', '_binop', '_builtin_table', '_can_hold_na', '_check_inplace_and_allows_duplicate_labels', '_check_inplace_setting', '_check_is_chained_assignment_possible', '_check_label_or_level_ambiguity', '_check_setitem_copy', '_clear_item_cache', '_clip_with_one_bound', '_clip_with_scalar', '_cmp_method', '_consolidate', '_consolidate_inplace', '_construct_axes_dict', '_construct_axes_from_arguments', '_construct_result', '_constructor', '_constructor_expanddim', '_constructor_sliced', '_convert', '_convert_dtypes', '_cython_table', '_data', '_dir_additions', '_dir_deletions', '_drop_axis', '_drop_labels_or_levels', '_find_valid_index', '_flags', '_get_axis', '_get_axis_name', '_get_axis_number', '_get_axis_resolvers', '_get_block_manager_axis', '_get_bool_data', '_get_cacher', '_get_cleaned_column_resolvers', '_get_cython_func', '_get_index_resolvers', '_get_item_cache', '_get_label_or_level_values', '_get_numeric_data', '_get_value', '_get_values', '_get_values_tuple', '_get_with', '_gotitem', '_hidden_attrs', '_index', '_indexed_same', '_info_axis', '_info_axis_name', '_info_axis_number', '_init_dict', '_init_mgr', '_inplace_method', '_internal_names', '_internal_names_set', '_is_builtin_func', '_is_cached', '_is_copy', '_is_label_or_level_reference', '_is_label_reference', '_is_level_reference', '_is_mixed_type', '_is_view', '_iset_item', '_item_cache', '_ix', '_ixs', '_logical_func', '_logical_method', '_map_values', '_maybe_cache_changed', '_maybe_update_cacher', '_metadata', '_mgr', '_min_count_stat_function', '_name', '_needs_reindex_multi', '_obj_with_exclusions', '_protect_consolidate', '_reduce', '_reindex_axes', '_reindex_indexer', '_reindex_multi', '_reindex_with_indexers', '_replace_single', '_repr_data_resource_', '_repr_latex_', '_reset_cache', '_reset_cacher', '_selected_obj', '_selection', '_selection_list', '_selection_name', '_set_as_cached', '_set_axis', '_set_axis_name', '_set_axis_nocheck', '_set_is_copy', '_set_item', '_set_labels', '_set_name', '_set_value', '_set_values', '_set_with', '_set_with_engine', '_slice', '_stat_axis', '_stat_axis_name', '_stat_axis_number', '_stat_function', '_stat_function_ddof', '_take_with_is_copy', '_to_dict_of_blocks', '_try_aggregate_string_function', '_typ', '_update_inplace', '_validate_dtype', '_values', '_where', 'abs', 'add', 'add_prefix', 'add_suffix', 'agg', 'aggregate', 'align', 'all', 'any', 'append', 'apply', 'argmax', 'argmin', 'argsort', 'array', 'asfreq', 'asof', 'astype', 'at', 'at_time', 'attrs', 'autocorr', 'axes', 'backfill', 'between', 'between_time', 'bfill', 'bool', 'clip', 'combine', 'combine_first', 'compare', 'convert_dtypes', 'copy', 'corr', 'count', 'cov', 'cummax', 'cummin', 'cumprod', 'cumsum', 'describe', 'diff', 'div', 'divide', 'divmod', 'dot', 'drop', 'drop_duplicates', 'droplevel', 'dropna', 'dtype', 'dtypes', 'duplicated', 'empty', 'eq', 'equals', 'ewm', 'expanding', 'explode', 'factorize', 'ffill', 'fillna', 'filter', 'first', 'first_valid_index', 'flags', 'floordiv', 'ge', 'get', 'groupby', 'gt', 'hasnans', 'head', 'hist', 'iat', 'idxmax', 'idxmin', 'iloc', 'index', 'infer_objects', 'interpolate', 'is_monotonic', 'is_monotonic_decreasing', 'is_monotonic_increasing', 'is_unique', 'isin', 'isna', 'isnull', 'item', 'items', 'iteritems', 'keys', 'kurt', 'kurtosis', 'last', 'last_valid_index', 'le', 'loc', 'lt', 'mad', 'map', 'mask', 'max', 'mean', 'median', 'memory_usage', 'min', 'mod', 'mode', 'mul', 'multiply', 'name', 'nbytes', 'ndim', 'ne', 'nlargest', 'notna', 'notnull', 'nsmallest', 'nunique', 'pad', 'pct_change', 'pipe', 'plot', 'pop', 'pow', 'prod', 'product', 'quantile', 'radd', 'rank', 'ravel', 'rdiv', 'rdivmod', 'reindex', 'reindex_like', 'rename', 'rename_axis', 'reorder_levels', 'repeat', 'replace', 'resample', 'reset_index', 'rfloordiv', 'rmod', 'rmul', 'rolling', 'round', 'rpow', 'rsub', 'rtruediv', 'sample', 'searchsorted', 'sem', 'set_axis', 'set_flags', 'shape', 'shift', 'size', 'skew', 'slice_shift', 'sort_index', 'sort_values', 'squeeze', 'std', 'sub', 'subtract', 'sum', 'swapaxes', 'swaplevel', 'tail', 'take', 'to_clipboard', 'to_csv', 'to_dict', 'to_excel', 'to_frame', 'to_hdf', 'to_json', 'to_latex', 'to_list', 'to_markdown', 'to_numpy', 'to_period', 'to_pickle', 'to_sql', 'to_string', 'to_timestamp', 'to_xarray', 'transform', 'transpose', 'truediv', 'truncate', 'tz_convert', 'tz_localize', 'unique', 'unstack', 'update', 'value_counts', 'values', 'var', 'view', 'where', 'xs']\n",
      "7.477381962160285\n",
      "0.0\n",
      "4.860861146496822\n",
      "-16.023526143167604\n",
      "4.95998494457465\n",
      "0.0\n",
      "0.0\n",
      "-14.716139568742832\n",
      "3.2148950476848217\n",
      "0.0\n",
      "0.0\n",
      "0.0\n",
      "2.50430947036873\n",
      "6.007249575350336\n",
      "6.007249575350336\n",
      "8.39\n",
      "0.0\n",
      "0.0\n",
      "0.0\n",
      "0.0\n",
      "5.064375661482098\n",
      "45.51400977451748\n",
      "0.0\n",
      "1.7581774441067903\n",
      "0.8739215069684301\n",
      "0.0\n",
      "-22.809833310204976\n",
      "2.678481850507526\n",
      "6.007249575350336\n",
      "-2.281503094067124\n",
      "0.0\n",
      "43.59898531199754\n",
      "0.0\n",
      "14.716139568742832\n",
      "0.0\n",
      "0.0\n",
      "5.064375661482098\n",
      "-5.064375661482098\n",
      "1.4969837572615643\n",
      "0.0\n",
      "1.4969837572615643\n",
      "1.1814980932459611\n",
      "7.477381962160285\n",
      "0.0\n",
      "0.0\n",
      "0.0\n",
      "22.809833310204976\n",
      "0.0\n",
      "-0.0\n",
      "0.0\n",
      "0.0\n",
      "-10.0\n",
      "0.0\n",
      "0.0\n",
      "17.530865429786644\n",
      "29.175827135565854\n",
      "0.0\n",
      "0.0\n",
      "-4.765319193197455\n",
      "-21.79949265599877\n",
      "-3.2148950476848217\n",
      "0.0\n",
      "0.0\n",
      "7.477381962160285\n",
      "0.0\n",
      "0.0\n",
      "0.0\n",
      "0.0\n",
      "0.0\n",
      "5.064375661482098\n",
      "0.0\n",
      "4.95998494457465\n",
      "16.023526143167604\n",
      "10.0\n",
      "0.22346172933182756\n",
      "0.0\n",
      "-4.541857463865628\n",
      "0.0\n",
      "0.0\n",
      "0.0\n",
      "4.95998494457465\n",
      "-29.175827135565854\n",
      "6.007249575350336\n",
      "0.0\n",
      "0.0\n",
      "0.0\n",
      "0.0\n",
      "5.064375661482098\n",
      "0.0\n",
      "0.0\n",
      "38.53460965051544\n",
      "0.0\n",
      "4.765319193197455\n",
      "21.79949265599877\n",
      "9.282532599166622\n",
      "0.0\n"
     ]
    }
   ],
   "source": [
    "print(dir(dfba.model.reactions))\n",
    "print('\\n\\n\\n')\n",
    "print(dir(solution.fluxes))\n",
    "# for flux in solution.fluxes:\n",
    "#     print(flux)\n",
    "for rxn in dfba.model.reactions:\n",
    "    print(solution.fluxes[rxn.id])\n",
    "print(solution.fluxes.ACALD)"
   ]
  }
 ],
 "metadata": {
  "kernelspec": {
   "display_name": "Python 3",
   "language": "python",
   "name": "python3"
  },
  "language_info": {
   "codemirror_mode": {
    "name": "ipython",
    "version": 3
   },
   "file_extension": ".py",
   "mimetype": "text/x-python",
   "name": "python",
   "nbconvert_exporter": "python",
   "pygments_lexer": "ipython3",
   "version": "3.7.4"
  }
 },
 "nbformat": 4,
 "nbformat_minor": 2
}
