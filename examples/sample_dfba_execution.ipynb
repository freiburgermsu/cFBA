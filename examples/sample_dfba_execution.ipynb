{
 "cells": [
  {
   "cell_type": "markdown",
   "metadata": {},
   "source": [
    "# define and execute"
   ]
  },
  {
   "cell_type": "code",
   "execution_count": 10,
   "metadata": {},
   "outputs": [
    {
     "name": "stdout",
     "output_type": "stream",
     "text": [
      "timestep 1\n",
      "\n",
      "objective value for timestep 1:  0.1580502916027857 \n",
      "\n",
      "\n",
      "timestep 2\n"
     ]
    },
    {
     "name": "stderr",
     "output_type": "stream",
     "text": [
      "C:\\Users\\Andrew Freiburger\\Dropbox\\My PC (DESKTOP-M302P50)\\Documents\\UVic Civil Engineering\\dFBA\\dFBApy\\dfbapy\\core.py:1: RuntimeWarning: invalid value encountered in double_scalars\n",
      "  # -*- coding: utf-8 -*-\n",
      "C:\\Users\\Andrew Freiburger\\Dropbox\\My PC (DESKTOP-M302P50)\\Documents\\UVic Civil Engineering\\dFBA\\dFBApy\\dfbapy\\core.py:1: RuntimeWarning: divide by zero encountered in double_scalars\n",
      "  # -*- coding: utf-8 -*-\n"
     ]
    },
    {
     "name": "stdout",
     "output_type": "stream",
     "text": [
      "\n",
      "objective value for timestep 2:  0.1580502916027857 \n",
      "\n",
      "\n",
      "timestep 3\n",
      "\n",
      "objective value for timestep 3:  0.1580502916027857 \n",
      "\n",
      "\n",
      "timestep 4\n",
      "\n",
      "objective value for timestep 4:  0.1580502916027857 \n",
      "\n",
      "\n",
      "timestep 5\n",
      "\n",
      "objective value for timestep 5:  0.1580502916027857 \n",
      "\n",
      "\n",
      "==============================\n",
      "                                                              1 (min)     2 (min)     3 (min)     4 (min)     5 (min)\n",
      "enzymes                                                                                                              \n",
      "acetate kinase                                               0.000000    0.000000    0.000000    0.000000    0.000000\n",
      "acetaldehyde dehydrogenase (acetylating)                          NaN         NaN         NaN         NaN         NaN\n",
      "acetyl-CoA carboxylase                                      30.497593   32.435051   32.435051   32.435051   32.435051\n",
      "6-phospho-beta-galactosidase                                 4.144944    4.144944    4.144944    4.144944    4.144944\n",
      "6-phospho-beta-glucosidase                                   0.000000    0.000000    0.000000    0.000000    0.000000\n",
      "acetylglutamate kinase                                       0.326925    0.000000    0.000000    0.000000    0.000000\n",
      "acetolactate synthase                                        0.000000    0.200000    0.200000    0.200000    0.200000\n",
      "4-aminobutyrate transaminase                                 0.000000         NaN    0.000000    0.000000    0.000000\n",
      "aminobutyraldehyde dehydrogenase                             0.000000    0.000000    0.000000    0.000000    0.000000\n",
      "acetyl-CoA C-acetyltransferase                               0.000000    0.000000    0.000000    0.000000    0.000000\n",
      "1-acylglycerol-3-phosphate O-acyltransferase                 0.000000    0.000000    0.000000    0.000000    0.000000\n",
      "phosphoribosylaminoimidazolecarboxamide formyltransferase         NaN         NaN         NaN         NaN         NaN\n",
      "N-acetylneuraminate lyase                                         NaN         NaN         NaN         NaN         NaN\n",
      "acetylornithine transaminase                                      NaN         NaN         NaN         NaN         NaN\n",
      "anthranilate phosphoribosyltransferase                            NaN         NaN         NaN         NaN         NaN\n",
      "anthranilate synthase                                        0.000000   -1.586082   -1.586082   -1.586082   -1.586082\n",
      "alanine racemase                                             0.000000    0.000000    0.000000    0.000000    0.000000\n",
      "8-amino-7-oxononanoate synthase                              0.000000    0.000000    0.000000    0.000000    0.000000\n",
      "adenosine deaminase                                          0.000000    0.000000    0.000000    0.000000    0.000000\n",
      "arginine deiminase                                           2.993673    2.993673    2.993673    2.993673    2.993673\n",
      "arginine decarboxylase                                       1.657407    1.657407    1.657407    1.657407    1.657407\n",
      "adenylate kinase                                           459.619727    0.000000    0.000000    0.000000    0.000000\n",
      "alkaline phosphatase                                              NaN         NaN         NaN         NaN         NaN\n",
      "arginase                                                   168.320611  168.320611  168.320611  168.320611  168.320611\n",
      "argininosuccinate lyase                                      0.026552    0.054867    0.054867    0.054867    0.054867\n",
      "amidase                                                      0.359604    0.359604    0.359604    0.359604    0.359604\n",
      "aspartate-semialdehyde dehydrogenase                              NaN         NaN         NaN         NaN         NaN\n",
      "aspartate 1-decarboxylase                                         NaN         NaN         NaN         NaN         NaN\n",
      "aspartate carbamoyltransferase                               0.000000    0.000000    0.000000    0.000000    0.000000\n",
      "aspartate kinase                                             0.281896    0.000000    0.000000    0.000000    0.000000\n",
      "adenylate cyclase                                            2.530480    2.530480    2.530480    2.530480    2.530480\n",
      "aspartate transaminase                                       0.016202         NaN    0.000000    0.000000    0.000000\n",
      "adenine phosphoribosyltransferase                          280.000000  280.000000  280.000000  280.000000  280.000000\n",
      "biotin synthase                                                   NaN         NaN         NaN         NaN         NaN\n",
      "adenylosuccinate lyase                                       0.000000    0.000000    0.000000    0.000000    0.000000\n",
      "betaine-aldehyde dehydrogenase                               0.000000    0.000000    0.000000    0.000000    0.000000\n",
      "adenylosuccinate synthase                                    0.000000    0.000000    0.000000    0.000000    0.000000\n",
      "N-acetylglucosamine-6-phosphate deacetylase                  0.000000    0.000000    0.000000    0.000000    0.000000\n",
      "cystathionine gamma-lyase                                    2.174077    2.174077    2.174077    2.174077    2.174077\n",
      "cysteine synthase                                            0.000000    0.008337    0.008337    0.008337    0.008337\n",
      "\n",
      "\n",
      "\n",
      "0\n",
      "True\n",
      "1\n",
      "True\n",
      "2\n",
      "True\n",
      "3\n",
      "True\n"
     ]
    }
   ],
   "source": [
    "%run ../dfbapy/core.py\n",
    "\n",
    "import cobra \n",
    "\n",
    "# define in the initial conditions\n",
    "initial_concentrations = {\"ATP\":200, \"ADP\":100}\n",
    "total_time = 5\n",
    "timestep = 1\n",
    "\n",
    "# print(average(2,5))\n",
    "\n",
    "# import the cobra model\n",
    "model = cobra.io.read_sbml_model('iSB619.xml')\n",
    "\n",
    "# execute the package\n",
    "dfba = dynamicFBA(model, total_time, timestep,initial_concentrations, reaction_kinetics, verbose = False)\n",
    "df, solutions = dfba.simulate()\n",
    "\n",
    "# affirm that fluxes differ between each timestep\n",
    "print('\\n\\n')\n",
    "flux_solutions = {}\n",
    "for solution in solutions:\n",
    "    flux_solutions[solutions.index(solution)] = [solution.fluxes[rxn.id] for rxn in model.reactions]\n",
    "for index in flux_solutions:\n",
    "    while index < len(flux_solutions)-1:\n",
    "        print(index)\n",
    "        print(flux_solutions[index] == flux_solutions[index+1])\n",
    "        index += 1\n",
    "        break"
   ]
  }
 ],
 "metadata": {
  "kernelspec": {
   "display_name": "Python 3",
   "language": "python",
   "name": "python3"
  },
  "language_info": {
   "codemirror_mode": {
    "name": "ipython",
    "version": 3
   },
   "file_extension": ".py",
   "mimetype": "text/x-python",
   "name": "python",
   "nbconvert_exporter": "python",
   "pygments_lexer": "ipython3",
   "version": "3.7.4"
  }
 },
 "nbformat": 4,
 "nbformat_minor": 2
}
