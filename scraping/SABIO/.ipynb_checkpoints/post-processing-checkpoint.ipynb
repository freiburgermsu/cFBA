{
 "cells": [
  {
   "cell_type": "markdown",
   "metadata": {},
   "source": [
    "# load the data"
   ]
  },
  {
   "cell_type": "code",
   "execution_count": 33,
   "metadata": {},
   "outputs": [
    {
     "name": "stdout",
     "output_type": "stream",
     "text": [
      "True\n"
     ]
    }
   ],
   "source": [
    "from pprint import pprint\n",
    "import json, os\n",
    "\n",
    "# load a scrapped dataset\n",
    "# json_path = r'C:\\Users\\Andrew Freiburger\\Dropbox\\My PC (DESKTOP-M302P50)\\Documents\\UVic Civil Engineering\\dFBA\\dFBApy\\scraping\\SABIO\\scraped_content\\sabio_proccessed.json' # this is for some reason not functional\n",
    "json_path = r'C:\\Users\\Andrew Freiburger\\Dropbox\\My PC (DESKTOP-M302P50)\\Documents\\UVic Civil Engineering\\dFBA\\dFBApy\\scraping\\SABIO\\scraped_content\\sabio_proccessed.orig.json'\n",
    "print(os.path.exists(json_path))\n",
    "\n",
    "with open(json_path) as data:\n",
    "    sabio = json.load(data)\n",
    "# sabio = json.load(open(json_path, 'r'))\n",
    "# pprint(sabio, depth = 1)"
   ]
  },
  {
   "cell_type": "markdown",
   "metadata": {},
   "source": [
    "# parse and consolidate the data"
   ]
  },
  {
   "cell_type": "code",
   "execution_count": 59,
   "metadata": {},
   "outputs": [
    {
     "name": "stdout",
     "output_type": "stream",
     "text": [
      "\n",
      " acetate kinase \n",
      " ============================\n",
      "reaction ATP + Acetate = ADP + Acetyl phosphate\n",
      "entry_id 5895\n",
      "param B\n",
      "0.5700000000000001\n",
      "param E\n",
      "E\n",
      "param A\n",
      "0.6\n",
      "param Kia\n",
      "param Kib\n",
      "param Ka\n",
      "param Kb\n",
      "param V\n",
      "entry_id 5896\n",
      "param E\n",
      "E\n",
      "param A\n",
      "0.12000000000000001\n",
      "param B\n",
      "param Kib\n",
      "param Kia\n",
      "param Ka\n",
      "param Kb\n",
      "param V\n",
      "entry_id 5899\n",
      "param temperature\n",
      "param pH\n",
      "param buffer\n",
      "param comment\n",
      "entry_id 5900\n",
      "param A\n",
      "40.0\n"
     ]
    },
    {
     "ename": "TypeError",
     "evalue": "can't multiply sequence by non-int of type 'float'",
     "output_type": "error",
     "traceback": [
      "\u001b[1;31m---------------------------------------------------------------------------\u001b[0m",
      "\u001b[1;31mTypeError\u001b[0m                                 Traceback (most recent call last)",
      "\u001b[1;32m<ipython-input-59-96fad92ef008>\u001b[0m in \u001b[0;36m<module>\u001b[1;34m\u001b[0m\n\u001b[0;32m     60\u001b[0m                             \u001b[1;32melif\u001b[0m \u001b[0mre\u001b[0m\u001b[1;33m.\u001b[0m\u001b[0msearch\u001b[0m\u001b[1;33m(\u001b[0m\u001b[1;34m'mM'\u001b[0m\u001b[1;33m,\u001b[0m \u001b[0munit\u001b[0m\u001b[1;33m)\u001b[0m\u001b[1;33m:\u001b[0m\u001b[1;33m\u001b[0m\u001b[1;33m\u001b[0m\u001b[0m\n\u001b[0;32m     61\u001b[0m                                 \u001b[0mprint\u001b[0m\u001b[1;33m(\u001b[0m\u001b[0mvalue\u001b[0m\u001b[1;33m)\u001b[0m\u001b[1;33m\u001b[0m\u001b[1;33m\u001b[0m\u001b[0m\n\u001b[1;32m---> 62\u001b[1;33m                                 \u001b[0mvalue\u001b[0m \u001b[1;33m*=\u001b[0m \u001b[0mmilli\u001b[0m\u001b[1;33m\u001b[0m\u001b[1;33m\u001b[0m\u001b[0m\n\u001b[0m\u001b[0;32m     63\u001b[0m                             \u001b[1;32melif\u001b[0m \u001b[0mre\u001b[0m\u001b[1;33m.\u001b[0m\u001b[0msearch\u001b[0m\u001b[1;33m(\u001b[0m\u001b[1;34m'g/ml'\u001b[0m\u001b[1;33m,\u001b[0m \u001b[0munit\u001b[0m\u001b[1;33m)\u001b[0m\u001b[1;33m:\u001b[0m\u001b[1;33m\u001b[0m\u001b[1;33m\u001b[0m\u001b[0m\n\u001b[0;32m     64\u001b[0m                                 \u001b[0mprint\u001b[0m\u001b[1;33m(\u001b[0m\u001b[0mparam\u001b[0m\u001b[1;33m)\u001b[0m\u001b[1;33m\u001b[0m\u001b[1;33m\u001b[0m\u001b[0m\n",
      "\u001b[1;31mTypeError\u001b[0m: can't multiply sequence by non-int of type 'float'"
     ]
    }
   ],
   "source": [
    "from scipy.constants import micro, nano, milli\n",
    "import re\n",
    "\n",
    "def isnumber(num):\n",
    "    try:\n",
    "        string = str(num)\n",
    "        string = string.strip()\n",
    "        if re.sub('([0-9.])', '',string) == '':\n",
    "            return True\n",
    "    except:\n",
    "        return False\n",
    "    \n",
    "def average(num_1, num_2 = None):\n",
    "    if isnumber(num_1): \n",
    "        if isnumber(num_2):\n",
    "            numbers = [float(num_1), float(num_2)]\n",
    "            average = sum(numbers) / len(numbers)\n",
    "            return average\n",
    "        else:\n",
    "            return float(num_1)\n",
    "    elif type(num_1) is list:\n",
    "        average = sum(num_1) / len(num_1)\n",
    "        return average\n",
    "    else:\n",
    "        return None\n",
    "\n",
    "# parse the values             # \\u00b5 is unicode for micro\n",
    "units = set()\n",
    "unit_prevalence = {}\n",
    "for enzyme in sabio:\n",
    "    print('\\n', enzyme, '\\n', '='*2*len(enzyme))\n",
    "    for reaction in sabio[enzyme]:    \n",
    "        print('reaction', reaction)\n",
    "        for entry_id in sabio[enzyme][reaction]:    \n",
    "            print('entry_id', entry_id)\n",
    "            for param in sabio[enzyme][reaction][entry_id]['Parameters']:\n",
    "                print('param', param)\n",
    "                if 'type' in sabio[enzyme][reaction][entry_id][info][param]:\n",
    "                    if 'unit' in sabio[enzyme][reaction][entry_id][info][param]:\n",
    "                        if sabio[enzyme][reaction][entry_id][info][param]['type'] == 'concentration':\n",
    "                            unit = sabio[enzyme][reaction][entry_id][info][param]['unit']\n",
    "                            units.add(unit)\n",
    "                            if unit in unit_prevalence:\n",
    "                                unit_prevalence[unit] += 1\n",
    "                            else:\n",
    "                                unit_prevalence[unit] = 1\n",
    "\n",
    "                            # determine the value\n",
    "                            initial_value = sabio[enzyme][reaction][entry_id][info][param]['start val.']\n",
    "                            final_value = sabio[enzyme][reaction][entry_id][info][param]['end val.']\n",
    "                            value = average(initial_value, final_value)\n",
    "                            \n",
    "                            # standardize the units to molar\n",
    "                            if re.search('-', unit):\n",
    "                                print(param)\n",
    "                            elif re.search('u00b5M', unit):\n",
    "                                value *= micro\n",
    "                            elif re.search('nM', unit):\n",
    "                                value *= nano\n",
    "                            elif re.search('mM', unit):\n",
    "                                print(value)\n",
    "                                value *= milli\n",
    "                            elif re.search('g/ml', unit):\n",
    "                                print(param)\n",
    "\n",
    "\n",
    "print(units)\n",
    "# pprint(unit_prevalence)"
   ]
  }
 ],
 "metadata": {
  "kernelspec": {
   "display_name": "Python 3",
   "language": "python",
   "name": "python3"
  },
  "language_info": {
   "codemirror_mode": {
    "name": "ipython",
    "version": 3
   },
   "file_extension": ".py",
   "mimetype": "text/x-python",
   "name": "python",
   "nbconvert_exporter": "python",
   "pygments_lexer": "ipython3",
   "version": "3.7.4"
  }
 },
 "nbformat": 4,
 "nbformat_minor": 2
}
